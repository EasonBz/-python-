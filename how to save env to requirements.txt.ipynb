{
 "cells": [
  {
   "cell_type": "code",
   "execution_count": null,
   "id": "4b192605",
   "metadata": {},
   "outputs": [],
   "source": [
    "#how to save env to requirements.txt\n",
    "#mac os terminal\n",
    "source /path/to/your/virtualenv/bin/activate\n",
    "#windows\n",
    "\\path\\to\\your\\virtualenv\\Scripts\\activate\n",
    "pip freeze > requirements.txt\n",
    "\n",
    "\n",
    "pip install -r requirements.txt"
   ]
  }
 ],
 "metadata": {
  "kernelspec": {
   "display_name": "Python 3 (ipykernel)",
   "language": "python",
   "name": "python3"
  },
  "language_info": {
   "codemirror_mode": {
    "name": "ipython",
    "version": 3
   },
   "file_extension": ".py",
   "mimetype": "text/x-python",
   "name": "python",
   "nbconvert_exporter": "python",
   "pygments_lexer": "ipython3",
   "version": "3.9.7"
  }
 },
 "nbformat": 4,
 "nbformat_minor": 5
}
